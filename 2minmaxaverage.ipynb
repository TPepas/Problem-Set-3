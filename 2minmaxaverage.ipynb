{
 "cells": [
  {
   "cell_type": "code",
   "execution_count": 1,
   "metadata": {},
   "outputs": [
    {
     "name": "stdout",
     "output_type": "stream",
     "text": [
      "Highest water level: 6.647 , Date and Time: 2018-10-10 18:06\n",
      "Lowest water level: 1.621 , Date and Time: 2018-10-11 15:36\n",
      "Average: 2.9823232044198904\n"
     ]
    }
   ],
   "source": [
    "file = open('Class_Files/data/CO-OPS__8729108__wl.csv')\n",
    "\n",
    "water_level_high = 0.0\n",
    "water_level_low = 10.0\n",
    "total = 0.0\n",
    "count = 0.0\n",
    "\n",
    "for line in file:\n",
    "    columns = line.split(sep=',')\n",
    "    try:\n",
    "        if float(columns[1]) > water_level_high:\n",
    "            water_level_high = float(columns[1])\n",
    "            datetime_high = columns[0]\n",
    "        if float(columns[1]) < water_level_low:\n",
    "            water_level_low = float(columns[1])\n",
    "            datetime_low = columns[0]\n",
    "        total = total + float(columns[1])\n",
    "        count = count + 1\n",
    "    except ValueError:\n",
    "        continue\n",
    "\n",
    "average = total/count\n",
    "\n",
    "print(\"Highest water level:\", water_level_high, \",\", \"Date and Time:\", datetime_high)\n",
    "print(\"Lowest water level:\", water_level_low, \",\", \"Date and Time:\", datetime_low)\n",
    "print(\"Average:\", average)"
   ]
  }
 ],
 "metadata": {
  "kernelspec": {
   "display_name": "UFRC Python-3.10",
   "language": "python",
   "name": "python3-3.10-ufrc"
  },
  "language_info": {
   "codemirror_mode": {
    "name": "ipython",
    "version": 3
   },
   "file_extension": ".py",
   "mimetype": "text/x-python",
   "name": "python",
   "nbconvert_exporter": "python",
   "pygments_lexer": "ipython3",
   "version": "3.10.5"
  }
 },
 "nbformat": 4,
 "nbformat_minor": 4
}

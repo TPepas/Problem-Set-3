{
 "cells": [
  {
   "cell_type": "code",
   "execution_count": 1,
   "metadata": {},
   "outputs": [
    {
     "name": "stdout",
     "output_type": "stream",
     "text": [
      "Water level: 6.647 , Date and Time: 2018-10-10 18:06\n"
     ]
    }
   ],
   "source": [
    "file = open('Class_Files/data/CO-OPS__8729108__wl.csv')\n",
    "\n",
    "water_level = 0.0\n",
    "datetime = ''\n",
    "\n",
    "for line in file:\n",
    "    columns = line.split(sep=',')\n",
    "    try:\n",
    "        if float(columns[1]) > water_level:\n",
    "            water_level = float(columns[1])\n",
    "            datetime = columns[0]\n",
    "    except ValueError:\n",
    "        continue\n",
    "\n",
    "print(\"Water level:\", water_level, \",\", \"Date and Time:\", datetime)"
   ]
  }
 ],
 "metadata": {
  "kernelspec": {
   "display_name": "UFRC Python-3.10",
   "language": "python",
   "name": "python3-3.10-ufrc"
  },
  "language_info": {
   "codemirror_mode": {
    "name": "ipython",
    "version": 3
   },
   "file_extension": ".py",
   "mimetype": "text/x-python",
   "name": "python",
   "nbconvert_exporter": "python",
   "pygments_lexer": "ipython3",
   "version": "3.10.5"
  }
 },
 "nbformat": 4,
 "nbformat_minor": 4
}

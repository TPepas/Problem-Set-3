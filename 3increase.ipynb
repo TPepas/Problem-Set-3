{
 "cells": [
  {
   "cell_type": "code",
   "execution_count": null,
   "metadata": {},
   "outputs": [],
   "source": [
    "file = open('Class_Files/data/CO-OPS__8729108__wl.csv')\n",
    "\n",
    "firstvalue = 2.421\n",
    "increase = 0.0\n",
    "datetime = ''\n",
    "\n",
    "for line in file:\n",
    "    columns = line.split(sep=',')\n",
    "    try:\n",
    "        if float(columns[1]) - float(firstvalue) > increase:\n",
    "            increase = float(columns[1]) - float(firstvalue)\n",
    "            datetime = columns[0]\n",
    "    except ValueError:\n",
    "        continue\n",
    "    firstvalue = columns[1]\n",
    "   \n",
    "increase = round(increase, 4)\n",
    "\n",
    "print(\"Highest increase:\", increase, \",\", \"Date and Time:\", datetime)"
   ]
  },
  {
   "cell_type": "code",
   "execution_count": null,
   "metadata": {},
   "outputs": [],
   "source": []
  }
 ],
 "metadata": {
  "kernelspec": {
   "display_name": "UFRC Python-3.10",
   "language": "python",
   "name": "python3-3.10-ufrc"
  },
  "language_info": {
   "codemirror_mode": {
    "name": "ipython",
    "version": 3
   },
   "file_extension": ".py",
   "mimetype": "text/x-python",
   "name": "python",
   "nbconvert_exporter": "python",
   "pygments_lexer": "ipython3",
   "version": "3.10.5"
  }
 },
 "nbformat": 4,
 "nbformat_minor": 4
}
